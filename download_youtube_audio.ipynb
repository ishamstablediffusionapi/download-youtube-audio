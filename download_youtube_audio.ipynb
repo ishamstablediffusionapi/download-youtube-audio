{
 "cells": [
  {
   "cell_type": "code",
   "execution_count": 1,
   "metadata": {},
   "outputs": [],
   "source": [
    "from utils import *"
   ]
  },
  {
   "cell_type": "code",
   "execution_count": 4,
   "metadata": {},
   "outputs": [],
   "source": [
    "path = \"./audio_samples\""
   ]
  },
  {
   "cell_type": "code",
   "execution_count": 5,
   "metadata": {},
   "outputs": [
    {
     "name": "stdout",
     "output_type": "stream",
     "text": [
      "Removing cache dir /Users/isham993/.cache/yt-dlp ..\n",
      "[youtube] Extracting URL: https://www.youtube.com/watch?v=VnnXAiTOLbo\n",
      "[youtube] VnnXAiTOLbo: Downloading webpage\n",
      "[youtube] VnnXAiTOLbo: Downloading ios player API JSON\n",
      "[youtube] VnnXAiTOLbo: Downloading android player API JSON\n",
      "[youtube] VnnXAiTOLbo: Downloading m3u8 information\n",
      "[info] VnnXAiTOLbo: Downloading 1 format(s): 251\n",
      "[download] Destination: ./audio_samples/VnnXAiTOLbo\n",
      "[download] 100% of   40.83MiB in 00:00:02 at 16.95MiB/s    \n",
      "[ExtractAudio] Destination: ./audio_samples/VnnXAiTOLbo.mp3\n",
      "Deleting original file ./audio_samples/VnnXAiTOLbo (pass -k to keep)\n"
     ]
    }
   ],
   "source": [
    "Download_Youtube_Audio(path, \"https://www.youtube.com/watch?v=VnnXAiTOLbo&ab_channel=TheUniversityofEdinburgh\")"
   ]
  },
  {
   "cell_type": "code",
   "execution_count": 7,
   "metadata": {},
   "outputs": [
    {
     "name": "stderr",
     "output_type": "stream",
     "text": [
      "ffmpeg version 5.1.2 Copyright (c) 2000-2022 the FFmpeg developers\n",
      "  built with Apple clang version 14.0.0 (clang-1400.0.29.202)\n",
      "  configuration: --prefix=/opt/homebrew/Cellar/ffmpeg/5.1.2_6 --enable-shared --enable-pthreads --enable-version3 --cc=clang --host-cflags= --host-ldflags= --enable-ffplay --enable-gnutls --enable-gpl --enable-libaom --enable-libaribb24 --enable-libbluray --enable-libdav1d --enable-libmp3lame --enable-libopus --enable-librav1e --enable-librist --enable-librubberband --enable-libsnappy --enable-libsrt --enable-libsvtav1 --enable-libtesseract --enable-libtheora --enable-libvidstab --enable-libvmaf --enable-libvorbis --enable-libvpx --enable-libwebp --enable-libx264 --enable-libx265 --enable-libxml2 --enable-libxvid --enable-lzma --enable-libfontconfig --enable-libfreetype --enable-frei0r --enable-libass --enable-libopencore-amrnb --enable-libopencore-amrwb --enable-libopenjpeg --enable-libspeex --enable-libsoxr --enable-libzmq --enable-libzimg --disable-libjack --disable-indev=jack --enable-videotoolbox --enable-neon\n",
      "  libavutil      57. 28.100 / 57. 28.100\n",
      "  libavcodec     59. 37.100 / 59. 37.100\n",
      "  libavformat    59. 27.100 / 59. 27.100\n",
      "  libavdevice    59.  7.100 / 59.  7.100\n",
      "  libavfilter     8. 44.100 /  8. 44.100\n",
      "  libswscale      6.  7.100 /  6.  7.100\n",
      "  libswresample   4.  7.100 /  4.  7.100\n",
      "  libpostproc    56.  6.100 / 56.  6.100\n",
      "Input #0, mp3, from 'audio_samples/rcDhvR3oeiE.mp3':\n",
      "  Metadata:\n",
      "    encoder         : Lavf59.27.100\n",
      "  Duration: 01:02:00.02, start: 0.023021, bitrate: 128 kb/s\n",
      "  Stream #0:0: Audio: mp3, 48000 Hz, stereo, fltp, 128 kb/s\n",
      "    Metadata:\n",
      "      encoder         : Lavc59.37\n",
      "Stream mapping:\n",
      "  Stream #0:0 -> #0:0 (mp3 (mp3float) -> mp3 (libmp3lame))\n",
      "Press [q] to stop, [?] for help\n",
      "Output #0, mp3, to 'audio_samples/trimmed_rcDhvR3oeiE.mp3':\n",
      "  Metadata:\n",
      "    TSSE            : Lavf59.27.100\n",
      "  Stream #0:0: Audio: mp3, 48000 Hz, stereo, fltp\n",
      "    Metadata:\n",
      "      encoder         : Lavc59.37.100 libmp3lame\n",
      "size=     173kB time=00:00:11.01 bitrate= 128.4kbits/s speed=12.9x    \n",
      "video:0kB audio:172kB subtitle:0kB other streams:0kB global headers:0kB muxing overhead: 0.134171%\n"
     ]
    }
   ],
   "source": [
    "trim_audio(\"audio_samples/rcDhvR3oeiE.mp3\", 934, 945)"
   ]
  }
 ],
 "metadata": {
  "kernelspec": {
   "display_name": "gpu_torch",
   "language": "python",
   "name": "python3"
  },
  "language_info": {
   "codemirror_mode": {
    "name": "ipython",
    "version": 3
   },
   "file_extension": ".py",
   "mimetype": "text/x-python",
   "name": "python",
   "nbconvert_exporter": "python",
   "pygments_lexer": "ipython3",
   "version": "3.11.3"
  },
  "orig_nbformat": 4
 },
 "nbformat": 4,
 "nbformat_minor": 2
}
